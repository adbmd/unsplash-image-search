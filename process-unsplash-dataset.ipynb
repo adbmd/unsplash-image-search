{
 "metadata": {
  "language_info": {
   "codemirror_mode": {
    "name": "ipython",
    "version": 3
   },
   "file_extension": ".py",
   "mimetype": "text/x-python",
   "name": "python",
   "nbconvert_exporter": "python",
   "pygments_lexer": "ipython3",
   "version": "3.8.5-final"
  },
  "orig_nbformat": 2,
  "kernelspec": {
   "name": "python38564bitvenvvenv9efd950bbdd2494f8072faf3b588558e",
   "display_name": "Python 3.8.5 64-bit ('.venv': venv)",
   "language": "python"
  }
 },
 "nbformat": 4,
 "nbformat_minor": 2,
 "cells": [
  {
   "cell_type": "code",
   "execution_count": 32,
   "metadata": {},
   "outputs": [
    {
     "output_type": "stream",
     "name": "stdout",
     "text": [
      "Photos in the dataset: 1981321\n"
     ]
    }
   ],
   "source": [
    "from pathlib import Path\n",
    "import pandas as pd\n",
    "\n",
    "# Read the photos table\n",
    "photos = pd.read_csv(os.path.join(Path('unsplash-dataset/full'), \"photos.tsv000\"), sep='\\t', header=0)\n",
    "\n",
    "# Print some stats\n",
    "print(f'Photos in the dataset: {photos.shape[0]}')"
   ]
  },
  {
   "cell_type": "code",
   "execution_count": 33,
   "metadata": {
    "tags": []
   },
   "outputs": [],
   "source": [
    "from urllib.request import urlretrieve\n",
    "\n",
    "donwload_path = Path('unsplash-dataset/photos')\n",
    "photo_urls = photos[['photo_id', 'photo_image_url']].values.tolist()\n",
    "\n",
    "def download_photo(photo):\n",
    "    photo_id = photo[0]\n",
    "    photo_url = photo[1] + \"?w=640\"\n",
    "    photo_path = donwload_path / (photo_id + \".jpg\")\n",
    "\n",
    "    if not photo_path.exists():\n",
    "        try:\n",
    "            urlretrieve(photo_url, photo_path)\n",
    "        except:\n",
    "            pass"
   ]
  },
  {
   "cell_type": "code",
   "execution_count": 35,
   "metadata": {},
   "outputs": [
    {
     "output_type": "display_data",
     "data": {
      "text/plain": "'Photos downloaded: 1981321'"
     },
     "metadata": {}
    }
   ],
   "source": [
    "from multiprocessing.pool import ThreadPool\n",
    "\n",
    "# Parallelize the download using a thread pool\n",
    "pool = ThreadPool(128)\n",
    "photos = pool.map(download_photo, photo_urls)\n",
    "\n",
    "# Display some statistics\n",
    "display(f'Photos downloaded: {len(photos)}')"
   ]
  },
  {
   "cell_type": "code",
   "execution_count": 51,
   "metadata": {},
   "outputs": [],
   "source": [
    "import clip\n",
    "import torch\n",
    "from PIL import Image\n",
    "\n",
    "# Load the open CLIP model\n",
    "device = \"cuda\" if torch.cuda.is_available() else \"cpu\"\n",
    "model, preprocess = clip.load(\"ViT-B/32\", device=device)\n",
    "\n",
    "def compute_clip_vectors(files):\n",
    "    photos = [Image.open(file) for file in files]\n",
    "    \n",
    "    with torch.no_grad():\n",
    "        photos_preprocessed = torch.stack([preprocess(photo) for photo in photos]).to(device)\n",
    "\n",
    "        photos_encoded = model.encode_image(photos_preprocessed)\n",
    "        photos_encoded /= photos_encoded.norm(dim=-1, keepdim=True)\n",
    "\n",
    "    return photos_encoded.cpu().numpy()"
   ]
  },
  {
   "cell_type": "code",
   "execution_count": 45,
   "metadata": {},
   "outputs": [
    {
     "output_type": "stream",
     "name": "stdout",
     "text": [
      "1\n"
     ]
    }
   ],
   "source": [
    "import glob\n",
    "photos_files = glob.glob(str(donwload_path / \"*.jpg\"))"
   ]
  },
  {
   "cell_type": "code",
   "execution_count": 149,
   "metadata": {},
   "outputs": [
    {
     "output_type": "execute_result",
     "data": {
      "text/plain": [
       "           000       001       002       003       004       005       006  \\\n",
       "0    -0.026382 -0.001537 -0.039764 -0.007259 -0.034943 -0.056519  0.006962   \n",
       "1     0.009781 -0.005615  0.044586  0.009995  0.027634  0.008247  0.040741   \n",
       "2    -0.015793  0.014610 -0.037201 -0.013939  0.008636 -0.062988 -0.004726   \n",
       "3    -0.012199  0.018448 -0.003237 -0.026581  0.024857 -0.003727  0.051208   \n",
       "4     0.020020 -0.006714  0.014793 -0.048279  0.024612 -0.029602  0.041229   \n",
       "...        ...       ...       ...       ...       ...       ...       ...   \n",
       "1019 -0.016983  0.026688 -0.041168 -0.009697 -0.023239 -0.024658 -0.003515   \n",
       "1020 -0.011566  0.078064 -0.001796 -0.006283  0.058411 -0.011925  0.062866   \n",
       "1021  0.004204  0.027954 -0.006706  0.024338  0.039307 -0.015533 -0.025452   \n",
       "1022 -0.013092  0.033997  0.016418  0.000260  0.025070  0.001532 -0.002144   \n",
       "1023 -0.009697  0.008202 -0.004509  0.025192  0.014145 -0.020477 -0.024643   \n",
       "\n",
       "           007       008       009  ...       503       504       505  \\\n",
       "0     0.003796  0.066467  0.034515  ...  0.020462 -0.016800 -0.054810   \n",
       "1     0.026642  0.040436  0.003319  ... -0.013969 -0.003824 -0.028610   \n",
       "2    -0.008469  0.070007  0.064148  ...  0.018646  0.040344  0.015175   \n",
       "3     0.056091 -0.031204  0.025009  ...  0.014008  0.080872 -0.034821   \n",
       "4     0.045593 -0.026093  0.007683  ...  0.025146  0.080627 -0.033447   \n",
       "...        ...       ...       ...  ...       ...       ...       ...   \n",
       "1019  0.041718 -0.054871  0.045563  ... -0.022278  0.061890  0.017349   \n",
       "1020  0.061005 -0.025299  0.019272  ...  0.009819  0.044434 -0.017120   \n",
       "1021  0.025574  0.055237  0.006435  ...  0.027420 -0.017273 -0.005264   \n",
       "1022  0.058105 -0.051483  0.023911  ...  0.018539  0.052246 -0.010925   \n",
       "1023  0.051941  0.044586 -0.023529  ...  0.007149  0.105896 -0.000504   \n",
       "\n",
       "           506       507       508       509       510       511     photo_id  \n",
       "0     0.040375 -0.038300  0.003374  0.012909  0.019714 -0.013550  X-4y73KHCrQ  \n",
       "1     0.019501  0.007492  0.045776  0.017715  0.014061 -0.005169  IXINb0iDn8U  \n",
       "2    -0.027222 -0.029053 -0.017792  0.011330 -0.010277  0.004509  AXl0P6vmEJ4  \n",
       "3    -0.023117 -0.017075 -0.028076  0.091553 -0.032379  0.021896  RytfSySq40k  \n",
       "4    -0.008224 -0.016174  0.000379  0.022095  0.026047 -0.017685  wt9KLJxzer0  \n",
       "...        ...       ...       ...       ...       ...       ...          ...  \n",
       "1019  0.021912 -0.015083  0.012863 -0.016159 -0.018372 -0.011635  60QBdU8ezB8  \n",
       "1020 -0.021774  0.009285 -0.014893  0.045410  0.041992  0.007767  iyqj9IKpQK0  \n",
       "1021  0.022263  0.037018 -0.034241  0.004894 -0.026505  0.026657  hSHJYwA5QzM  \n",
       "1022 -0.000822  0.015320 -0.029312  0.026566  0.001087 -0.013748  peFHn8r4t1o  \n",
       "1023 -0.011536 -0.022415 -0.048401  0.011032 -0.002581  0.031616  lm5Q2_3lAUY  \n",
       "\n",
       "[1024 rows x 513 columns]"
      ],
      "text/html": "<div>\n<style scoped>\n    .dataframe tbody tr th:only-of-type {\n        vertical-align: middle;\n    }\n\n    .dataframe tbody tr th {\n        vertical-align: top;\n    }\n\n    .dataframe thead th {\n        text-align: right;\n    }\n</style>\n<table border=\"1\" class=\"dataframe\">\n  <thead>\n    <tr style=\"text-align: right;\">\n      <th></th>\n      <th>000</th>\n      <th>001</th>\n      <th>002</th>\n      <th>003</th>\n      <th>004</th>\n      <th>005</th>\n      <th>006</th>\n      <th>007</th>\n      <th>008</th>\n      <th>009</th>\n      <th>...</th>\n      <th>503</th>\n      <th>504</th>\n      <th>505</th>\n      <th>506</th>\n      <th>507</th>\n      <th>508</th>\n      <th>509</th>\n      <th>510</th>\n      <th>511</th>\n      <th>photo_id</th>\n    </tr>\n  </thead>\n  <tbody>\n    <tr>\n      <th>0</th>\n      <td>-0.026382</td>\n      <td>-0.001537</td>\n      <td>-0.039764</td>\n      <td>-0.007259</td>\n      <td>-0.034943</td>\n      <td>-0.056519</td>\n      <td>0.006962</td>\n      <td>0.003796</td>\n      <td>0.066467</td>\n      <td>0.034515</td>\n      <td>...</td>\n      <td>0.020462</td>\n      <td>-0.016800</td>\n      <td>-0.054810</td>\n      <td>0.040375</td>\n      <td>-0.038300</td>\n      <td>0.003374</td>\n      <td>0.012909</td>\n      <td>0.019714</td>\n      <td>-0.013550</td>\n      <td>X-4y73KHCrQ</td>\n    </tr>\n    <tr>\n      <th>1</th>\n      <td>0.009781</td>\n      <td>-0.005615</td>\n      <td>0.044586</td>\n      <td>0.009995</td>\n      <td>0.027634</td>\n      <td>0.008247</td>\n      <td>0.040741</td>\n      <td>0.026642</td>\n      <td>0.040436</td>\n      <td>0.003319</td>\n      <td>...</td>\n      <td>-0.013969</td>\n      <td>-0.003824</td>\n      <td>-0.028610</td>\n      <td>0.019501</td>\n      <td>0.007492</td>\n      <td>0.045776</td>\n      <td>0.017715</td>\n      <td>0.014061</td>\n      <td>-0.005169</td>\n      <td>IXINb0iDn8U</td>\n    </tr>\n    <tr>\n      <th>2</th>\n      <td>-0.015793</td>\n      <td>0.014610</td>\n      <td>-0.037201</td>\n      <td>-0.013939</td>\n      <td>0.008636</td>\n      <td>-0.062988</td>\n      <td>-0.004726</td>\n      <td>-0.008469</td>\n      <td>0.070007</td>\n      <td>0.064148</td>\n      <td>...</td>\n      <td>0.018646</td>\n      <td>0.040344</td>\n      <td>0.015175</td>\n      <td>-0.027222</td>\n      <td>-0.029053</td>\n      <td>-0.017792</td>\n      <td>0.011330</td>\n      <td>-0.010277</td>\n      <td>0.004509</td>\n      <td>AXl0P6vmEJ4</td>\n    </tr>\n    <tr>\n      <th>3</th>\n      <td>-0.012199</td>\n      <td>0.018448</td>\n      <td>-0.003237</td>\n      <td>-0.026581</td>\n      <td>0.024857</td>\n      <td>-0.003727</td>\n      <td>0.051208</td>\n      <td>0.056091</td>\n      <td>-0.031204</td>\n      <td>0.025009</td>\n      <td>...</td>\n      <td>0.014008</td>\n      <td>0.080872</td>\n      <td>-0.034821</td>\n      <td>-0.023117</td>\n      <td>-0.017075</td>\n      <td>-0.028076</td>\n      <td>0.091553</td>\n      <td>-0.032379</td>\n      <td>0.021896</td>\n      <td>RytfSySq40k</td>\n    </tr>\n    <tr>\n      <th>4</th>\n      <td>0.020020</td>\n      <td>-0.006714</td>\n      <td>0.014793</td>\n      <td>-0.048279</td>\n      <td>0.024612</td>\n      <td>-0.029602</td>\n      <td>0.041229</td>\n      <td>0.045593</td>\n      <td>-0.026093</td>\n      <td>0.007683</td>\n      <td>...</td>\n      <td>0.025146</td>\n      <td>0.080627</td>\n      <td>-0.033447</td>\n      <td>-0.008224</td>\n      <td>-0.016174</td>\n      <td>0.000379</td>\n      <td>0.022095</td>\n      <td>0.026047</td>\n      <td>-0.017685</td>\n      <td>wt9KLJxzer0</td>\n    </tr>\n    <tr>\n      <th>...</th>\n      <td>...</td>\n      <td>...</td>\n      <td>...</td>\n      <td>...</td>\n      <td>...</td>\n      <td>...</td>\n      <td>...</td>\n      <td>...</td>\n      <td>...</td>\n      <td>...</td>\n      <td>...</td>\n      <td>...</td>\n      <td>...</td>\n      <td>...</td>\n      <td>...</td>\n      <td>...</td>\n      <td>...</td>\n      <td>...</td>\n      <td>...</td>\n      <td>...</td>\n      <td>...</td>\n    </tr>\n    <tr>\n      <th>1019</th>\n      <td>-0.016983</td>\n      <td>0.026688</td>\n      <td>-0.041168</td>\n      <td>-0.009697</td>\n      <td>-0.023239</td>\n      <td>-0.024658</td>\n      <td>-0.003515</td>\n      <td>0.041718</td>\n      <td>-0.054871</td>\n      <td>0.045563</td>\n      <td>...</td>\n      <td>-0.022278</td>\n      <td>0.061890</td>\n      <td>0.017349</td>\n      <td>0.021912</td>\n      <td>-0.015083</td>\n      <td>0.012863</td>\n      <td>-0.016159</td>\n      <td>-0.018372</td>\n      <td>-0.011635</td>\n      <td>60QBdU8ezB8</td>\n    </tr>\n    <tr>\n      <th>1020</th>\n      <td>-0.011566</td>\n      <td>0.078064</td>\n      <td>-0.001796</td>\n      <td>-0.006283</td>\n      <td>0.058411</td>\n      <td>-0.011925</td>\n      <td>0.062866</td>\n      <td>0.061005</td>\n      <td>-0.025299</td>\n      <td>0.019272</td>\n      <td>...</td>\n      <td>0.009819</td>\n      <td>0.044434</td>\n      <td>-0.017120</td>\n      <td>-0.021774</td>\n      <td>0.009285</td>\n      <td>-0.014893</td>\n      <td>0.045410</td>\n      <td>0.041992</td>\n      <td>0.007767</td>\n      <td>iyqj9IKpQK0</td>\n    </tr>\n    <tr>\n      <th>1021</th>\n      <td>0.004204</td>\n      <td>0.027954</td>\n      <td>-0.006706</td>\n      <td>0.024338</td>\n      <td>0.039307</td>\n      <td>-0.015533</td>\n      <td>-0.025452</td>\n      <td>0.025574</td>\n      <td>0.055237</td>\n      <td>0.006435</td>\n      <td>...</td>\n      <td>0.027420</td>\n      <td>-0.017273</td>\n      <td>-0.005264</td>\n      <td>0.022263</td>\n      <td>0.037018</td>\n      <td>-0.034241</td>\n      <td>0.004894</td>\n      <td>-0.026505</td>\n      <td>0.026657</td>\n      <td>hSHJYwA5QzM</td>\n    </tr>\n    <tr>\n      <th>1022</th>\n      <td>-0.013092</td>\n      <td>0.033997</td>\n      <td>0.016418</td>\n      <td>0.000260</td>\n      <td>0.025070</td>\n      <td>0.001532</td>\n      <td>-0.002144</td>\n      <td>0.058105</td>\n      <td>-0.051483</td>\n      <td>0.023911</td>\n      <td>...</td>\n      <td>0.018539</td>\n      <td>0.052246</td>\n      <td>-0.010925</td>\n      <td>-0.000822</td>\n      <td>0.015320</td>\n      <td>-0.029312</td>\n      <td>0.026566</td>\n      <td>0.001087</td>\n      <td>-0.013748</td>\n      <td>peFHn8r4t1o</td>\n    </tr>\n    <tr>\n      <th>1023</th>\n      <td>-0.009697</td>\n      <td>0.008202</td>\n      <td>-0.004509</td>\n      <td>0.025192</td>\n      <td>0.014145</td>\n      <td>-0.020477</td>\n      <td>-0.024643</td>\n      <td>0.051941</td>\n      <td>0.044586</td>\n      <td>-0.023529</td>\n      <td>...</td>\n      <td>0.007149</td>\n      <td>0.105896</td>\n      <td>-0.000504</td>\n      <td>-0.011536</td>\n      <td>-0.022415</td>\n      <td>-0.048401</td>\n      <td>0.011032</td>\n      <td>-0.002581</td>\n      <td>0.031616</td>\n      <td>lm5Q2_3lAUY</td>\n    </tr>\n  </tbody>\n</table>\n<p>1024 rows × 513 columns</p>\n</div>"
     },
     "metadata": {},
     "execution_count": 149
    }
   ],
   "source": [
    "import os\n",
    "import pandas as pd\n",
    "\n",
    "batch_size = 1024\n",
    "batches = math.ceil(len(photos_files) / batch_size)\n",
    "\n",
    "vectors_path = Path('unsplash-dataset/vectors')\n",
    "\n",
    "for i in range(batches):\n",
    "\n",
    "    i = 1289\n",
    "    batch_path = vectors_path / f\"{i:08d}.pickle\"\n",
    "    \n",
    "    if not batch_path.exists():\n",
    "        try:\n",
    "            batch_files = photos_files[i*batch_size : (i+1)*batch_size]\n",
    "            batch_vectors = compute_clip_vectors(batch_files)\n",
    "\n",
    "            batch_data = pd.DataFrame(batch_vectors, columns=[f\"{x:03d}\" for x in range(512)])\n",
    "            batch_data['photo_id'] = [os.path.basename(file).split(\".\")[0] for file in batch_files]\n",
    "\n",
    "            batch_data.to_pickle(batch_path)\n",
    "        except:\n",
    "            print(f'Problem with batch {i}')\n",
    "\n",
    "    break\n",
    "\n",
    "batch_data"
   ]
  },
  {
   "cell_type": "code",
   "execution_count": 156,
   "metadata": {},
   "outputs": [],
   "source": [
    "vec_files = sorted(glob.glob(str(vectors_path / '*.pickle')))\n",
    "\n",
    "data = pd.concat([pd.read_pickle(f) for f in vec_files])"
   ]
  },
  {
   "cell_type": "code",
   "execution_count": 166,
   "metadata": {},
   "outputs": [],
   "source": [
    "keys = list(data['photo_id'])\n",
    "features = data[[f\"{x:03d}\" for x in range(512)]].to_numpy()\n"
   ]
  },
  {
   "cell_type": "code",
   "execution_count": 167,
   "metadata": {},
   "outputs": [
    {
     "output_type": "stream",
     "name": "stdout",
     "text": [
      "1981161 (1981161, 512) float16\n"
     ]
    }
   ],
   "source": [
    "print(len(keys), features.shape, features.dtype)"
   ]
  },
  {
   "cell_type": "code",
   "execution_count": 169,
   "metadata": {},
   "outputs": [],
   "source": [
    "data['photo_id'].to_csv('unsplash-dataset/clip/keys.csv', index=False)"
   ]
  },
  {
   "cell_type": "code",
   "execution_count": 170,
   "metadata": {},
   "outputs": [
    {
     "output_type": "error",
     "ename": "NameError",
     "evalue": "name 'np' is not defined",
     "traceback": [
      "\u001b[0;31m---------------------------------------------------------------------------\u001b[0m",
      "\u001b[0;31mNameError\u001b[0m                                 Traceback (most recent call last)",
      "\u001b[0;32m<ipython-input-170-8c671196e744>\u001b[0m in \u001b[0;36m<module>\u001b[0;34m\u001b[0m\n\u001b[0;32m----> 1\u001b[0;31m \u001b[0mnp\u001b[0m\u001b[0;34m.\u001b[0m\u001b[0msave\u001b[0m\u001b[0;34m(\u001b[0m\u001b[0;34m'unsplash-dataset/clip/features.npy'\u001b[0m\u001b[0;34m,\u001b[0m \u001b[0mfeatures\u001b[0m\u001b[0;34m)\u001b[0m\u001b[0;34m\u001b[0m\u001b[0;34m\u001b[0m\u001b[0m\n\u001b[0m",
      "\u001b[0;31mNameError\u001b[0m: name 'np' is not defined"
     ]
    }
   ],
   "source": [
    "import numpy as np\n",
    "np.save('unsplash-dataset/clip/features.npy', features)"
   ]
  }
 ]
}